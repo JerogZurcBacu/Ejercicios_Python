{
 "cells": [
  {
   "cell_type": "markdown",
   "metadata": {},
   "source": [
    "1. Crear una variable que contenga un elemento del conjunto de números enteros y luego imprimir por pantalla si es mayor o menor a cero"
   ]
  },
  {
   "cell_type": "code",
   "execution_count": 15,
   "metadata": {},
   "outputs": [
    {
     "name": "stdout",
     "output_type": "stream",
     "text": [
      "La variable entero es mayor a 0\n"
     ]
    }
   ],
   "source": [
    "entero = 5\n",
    "if (entero > 0):\n",
    "    print('La variable entero es mayor a 0')\n",
    "elif (entero < 0):\n",
    "    print('La variable entero es menor a 0')\n",
    "else:\n",
    "    print('La variable es igual a cero')"
   ]
  },
  {
   "cell_type": "markdown",
   "metadata": {},
   "source": [
    "2. Crear dos variables y un condicional que informe si son del mismo tipo de dato"
   ]
  },
  {
   "cell_type": "code",
   "execution_count": 16,
   "metadata": {},
   "outputs": [
    {
     "name": "stdout",
     "output_type": "stream",
     "text": [
      "Las variables no son del mismo tipo\n"
     ]
    }
   ],
   "source": [
    "var1 = 7\n",
    "var2 = '7'\n",
    "if (type(var1) == type(var2)):\n",
    "    print('Las variables son del mismo tipo')\n",
    "else:\n",
    "    print('Las variables no son del mismo tipo')"
   ]
  },
  {
   "cell_type": "markdown",
   "metadata": {},
   "source": [
    "3. Para los valores enteros del 1 al 20, imprimir por pantalla si es par o impar"
   ]
  },
  {
   "cell_type": "code",
   "execution_count": 17,
   "metadata": {},
   "outputs": [
    {
     "name": "stdout",
     "output_type": "stream",
     "text": [
      "1 es un número primo\n",
      "2  es un número par\n",
      "3 es un número primo\n",
      "4  es un número par\n",
      "5 es un número primo\n",
      "6  es un número par\n",
      "7 es un número primo\n",
      "8  es un número par\n",
      "9 es un número primo\n",
      "10  es un número par\n",
      "11 es un número primo\n",
      "12  es un número par\n",
      "13 es un número primo\n",
      "14  es un número par\n",
      "15 es un número primo\n",
      "16  es un número par\n",
      "17 es un número primo\n",
      "18  es un número par\n",
      "19 es un número primo\n",
      "20  es un número par\n"
     ]
    }
   ],
   "source": [
    "for n in range(1,21):\n",
    "    if n % 2 == 0:\n",
    "        print(n, ' es un número par')\n",
    "    else:\n",
    "        print(n, 'es un número primo')"
   ]
  },
  {
   "cell_type": "markdown",
   "metadata": {},
   "source": [
    "4. En un ciclo for mostrar para los valores entre 0 y 5 el resultado de elevarlo a la potencia igual a 3"
   ]
  },
  {
   "cell_type": "code",
   "execution_count": 11,
   "metadata": {},
   "outputs": [
    {
     "name": "stdout",
     "output_type": "stream",
     "text": [
      "0\n",
      "1\n",
      "8\n",
      "27\n",
      "64\n",
      "125\n"
     ]
    }
   ],
   "source": [
    "for n in range(0,6):\n",
    "    print(n**3)\n"
   ]
  },
  {
   "cell_type": "markdown",
   "metadata": {},
   "source": [
    "5. Crear una variable que contenga un número entero y realizar un ciclo for la misma cantidad de ciclos"
   ]
  },
  {
   "cell_type": "code",
   "execution_count": 19,
   "metadata": {},
   "outputs": [
    {
     "name": "stdout",
     "output_type": "stream",
     "text": [
      "6\n"
     ]
    }
   ],
   "source": [
    "ciclo = 7\n",
    "for i in range(0, ciclo):\n",
    "    pass\n",
    "print(i)"
   ]
  },
  {
   "cell_type": "markdown",
   "metadata": {},
   "source": [
    "6. Utilizar un ciclo while para realizar el factoreo de un número guardado en una variable, sólo si la variable contiene un número entero mayor a 0"
   ]
  },
  {
   "cell_type": "code",
   "execution_count": 23,
   "metadata": {},
   "outputs": [
    {
     "name": "stdout",
     "output_type": "stream",
     "text": [
      "24\n"
     ]
    }
   ],
   "source": [
    "variable = 4\n",
    "factorial = 1\n",
    "if (variable > 0):\n",
    "    while(variable > 1):\n",
    "        factorial = factorial * variable\n",
    "        variable -=1\n",
    "print(factorial)\n"
   ]
  },
  {
   "cell_type": "markdown",
   "metadata": {},
   "source": [
    "7. Crear un ciclo for dentro de un ciclo while"
   ]
  },
  {
   "cell_type": "code",
   "execution_count": 36,
   "metadata": {},
   "outputs": [
    {
     "name": "stdout",
     "output_type": "stream",
     "text": [
      "Ciclo while No. 1\n",
      "Ciclo for No. 4\n",
      "Ciclo while No. 2\n",
      "Ciclo for No. 4\n",
      "Ciclo while No. 3\n",
      "Ciclo for No. 4\n",
      "Ciclo while No. 4\n",
      "Ciclo for No. 4\n",
      "Ciclo while No. 1\n",
      "Ciclo for No. 3\n",
      "Ciclo while No. 2\n",
      "Ciclo for No. 3\n",
      "Ciclo while No. 3\n",
      "Ciclo for No. 3\n",
      "Ciclo while No. 1\n",
      "Ciclo for No. 2\n",
      "Ciclo while No. 2\n",
      "Ciclo for No. 2\n",
      "Ciclo while No. 1\n",
      "Ciclo for No. 1\n"
     ]
    }
   ],
   "source": [
    "var3 = 5\n",
    "while(var3>0):\n",
    "    var3 -=1\n",
    "    for x in range(1,var3+1):\n",
    "        print('Ciclo while No.', x)\n",
    "        print('Ciclo for No.', var3)\n"
   ]
  },
  {
   "cell_type": "markdown",
   "metadata": {},
   "source": [
    "8. Crear un ciclo while dentro de un ciclo for"
   ]
  },
  {
   "cell_type": "code",
   "execution_count": 38,
   "metadata": {},
   "outputs": [],
   "source": [
    "var4 = 5\n",
    "for y in range(1, var4):\n",
    "    while(var4 < 5):\n",
    "        var4 -= 1 \n",
    "        print('hola', y) \n",
    "        \n"
   ]
  },
  {
   "cell_type": "markdown",
   "metadata": {},
   "source": [
    "9. Imprimir los números primos existentes entre 0 y 30"
   ]
  },
  {
   "cell_type": "code",
   "execution_count": 29,
   "metadata": {},
   "outputs": [
    {
     "name": "stdout",
     "output_type": "stream",
     "text": [
      "1 es un número primo\n",
      "3 es un número primo\n",
      "5 es un número primo\n",
      "7 es un número primo\n",
      "9 es un número primo\n",
      "11 es un número primo\n",
      "13 es un número primo\n",
      "15 es un número primo\n",
      "17 es un número primo\n",
      "19 es un número primo\n",
      "21 es un número primo\n",
      "23 es un número primo\n",
      "25 es un número primo\n",
      "27 es un número primo\n",
      "29 es un número primo\n"
     ]
    }
   ],
   "source": [
    "for z in range(1,31,2):\n",
    "    print(z, 'es un número primo')"
   ]
  },
  {
   "cell_type": "markdown",
   "metadata": {},
   "source": [
    "10. ¿Se puede mejorar el proceso del punto 9? Utilizar las sentencias break y/ó continue para tal fin"
   ]
  },
  {
   "cell_type": "code",
   "execution_count": 30,
   "metadata": {},
   "outputs": [
    {
     "name": "stdout",
     "output_type": "stream",
     "text": [
      "1 es un número primo\n",
      "3 es un número primo\n",
      "5 es un número primo\n",
      "7 es un número primo\n",
      "9 es un número primo\n",
      "11 es un número primo\n",
      "13 es un número primo\n",
      "15 es un número primo\n",
      "17 es un número primo\n",
      "19 es un número primo\n",
      "21 es un número primo\n",
      "23 es un número primo\n",
      "25 es un número primo\n",
      "27 es un número primo\n",
      "29 es un número primo\n"
     ]
    }
   ],
   "source": [
    "for z in range(1,31):\n",
    "    if (z % 2 == 0):\n",
    "        continue\n",
    "    print(z, 'es un número primo')"
   ]
  },
  {
   "cell_type": "markdown",
   "metadata": {},
   "source": [
    "11. En los puntos 9 y 10, se diseño un código que encuentra números primos y además se lo optimizó. ¿Es posible saber en qué medida se optimizó?"
   ]
  },
  {
   "cell_type": "code",
   "execution_count": 39,
   "metadata": {},
   "outputs": [
    {
     "name": "stdout",
     "output_type": "stream",
     "text": [
      "Si es posible por ejemplo, contando la cantidad de ciclos que se realizaron\n"
     ]
    }
   ],
   "source": [
    "print('Si es posible por ejemplo, contando la cantidad de ciclos que se realizaron')"
   ]
  },
  {
   "cell_type": "markdown",
   "metadata": {},
   "source": [
    "12. Si la cantidad de números que se evalúa es mayor a treinta, esa optimización crece?"
   ]
  },
  {
   "cell_type": "code",
   "execution_count": 40,
   "metadata": {},
   "outputs": [
    {
     "name": "stdout",
     "output_type": "stream",
     "text": [
      "Si, ya que el numero de ciclos depende de la longitud del rango en el que se busca\n"
     ]
    }
   ],
   "source": [
    "print('Si, ya que el numero de ciclos depende de la longitud del rango en el que se busca')"
   ]
  },
  {
   "cell_type": "markdown",
   "metadata": {},
   "source": [
    "13. Aplicando continue, armar un ciclo while que solo imprima los valores divisibles por 12, dentro del rango de números de 100 a 300"
   ]
  },
  {
   "cell_type": "code",
   "execution_count": 44,
   "metadata": {},
   "outputs": [
    {
     "name": "stdout",
     "output_type": "stream",
     "text": [
      "108 es divisible entre 12\n",
      "120 es divisible entre 12\n",
      "132 es divisible entre 12\n",
      "144 es divisible entre 12\n",
      "156 es divisible entre 12\n",
      "168 es divisible entre 12\n",
      "180 es divisible entre 12\n",
      "192 es divisible entre 12\n",
      "204 es divisible entre 12\n",
      "216 es divisible entre 12\n",
      "228 es divisible entre 12\n",
      "240 es divisible entre 12\n",
      "252 es divisible entre 12\n",
      "264 es divisible entre 12\n",
      "276 es divisible entre 12\n",
      "288 es divisible entre 12\n",
      "300 es divisible entre 12\n"
     ]
    }
   ],
   "source": [
    "k = 99\n",
    "while(k <= 300):\n",
    "    k += 1\n",
    "    if (k % 12 != 0):\n",
    "        continue\n",
    "    print(k, 'es divisible entre 12')"
   ]
  },
  {
   "cell_type": "markdown",
   "metadata": {},
   "source": [
    "14. Utilizar la función input() que permite hacer ingresos por teclado, para encontrar números primos y dar la opción al usario de buscar el siguiente"
   ]
  },
  {
   "cell_type": "code",
   "execution_count": 45,
   "metadata": {},
   "outputs": [
    {
     "name": "stdout",
     "output_type": "stream",
     "text": [
      "1\n",
      "¿Desea encontrar el siguiente número primo?\n",
      "Se finaliza el proceso\n"
     ]
    }
   ],
   "source": [
    "n = 1\n",
    "sigue = 1\n",
    "primo = True\n",
    "while (sigue == 1):\n",
    "    for div in range(2,n):\n",
    "        if (n % div == 0):\n",
    "            primo = False\n",
    "            break\n",
    "    if (primo):\n",
    "        print(n)\n",
    "        print('¿Desea encontrar el siguiente número primo?')\n",
    "        if (input() != '1'):\n",
    "            print('Se finaliza el proceso')\n",
    "            break\n",
    "    else:\n",
    "        primo = True\n",
    "    n += 1\n"
   ]
  },
  {
   "cell_type": "markdown",
   "metadata": {},
   "source": [
    "15. Crear un ciclo while que encuentre dentro del rango de 100 a 300 el primer número divisible por 3 y además múltiplo de 6"
   ]
  },
  {
   "cell_type": "code",
   "execution_count": null,
   "metadata": {},
   "outputs": [],
   "source": []
  }
 ],
 "metadata": {
  "kernelspec": {
   "display_name": "Python 3.10.3 64-bit",
   "language": "python",
   "name": "python3"
  },
  "language_info": {
   "codemirror_mode": {
    "name": "ipython",
    "version": 3
   },
   "file_extension": ".py",
   "mimetype": "text/x-python",
   "name": "python",
   "nbconvert_exporter": "python",
   "pygments_lexer": "ipython3",
   "version": "3.10.3"
  },
  "orig_nbformat": 4,
  "vscode": {
   "interpreter": {
    "hash": "369f2c481f4da34e4445cda3fffd2e751bd1c4d706f27375911949ba6bb62e1c"
   }
  }
 },
 "nbformat": 4,
 "nbformat_minor": 2
}
